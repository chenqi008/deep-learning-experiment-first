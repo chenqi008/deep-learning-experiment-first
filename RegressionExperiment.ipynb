{
 "cells": [
  {
   "cell_type": "markdown",
   "metadata": {},
   "source": [
    "### Loss Function\n",
    "$J(w) = \\frac{1}{2N}\\sum_{i=1}^{N}(w^Tx_i-y_i)^2$"
   ]
  },
  {
   "cell_type": "code",
   "execution_count": 1,
   "metadata": {
    "collapsed": true
   },
   "outputs": [],
   "source": [
    "from sklearn.datasets import load_svmlight_file\n",
    "from sklearn.model_selection import train_test_split\n",
    "import numpy as np\n",
    "import matplotlib.pyplot as plt"
   ]
  },
  {
   "cell_type": "code",
   "execution_count": 8,
   "metadata": {
    "collapsed": true
   },
   "outputs": [],
   "source": [
    "def get_data(dataset):\n",
    "    data = load_svmlight_file(\"{}\".format(dataset))\n",
    "    # data = load_svmlight_file(\"../dataset/australian_scale\")\n",
    "    input_data = data[0].toarray()\n",
    "    return input_data, data[1]"
   ]
  },
  {
   "cell_type": "code",
   "execution_count": 3,
   "metadata": {
    "collapsed": true
   },
   "outputs": [],
   "source": [
    "def get_dataset(x, y):\n",
    "    x_train, x_test, y_train, y_test = train_test_split(x, y, test_size=0.25, random_state=42)\n",
    "    return x_train, x_test, y_train, y_test"
   ]
  },
  {
   "cell_type": "code",
   "execution_count": 4,
   "metadata": {
    "collapsed": true
   },
   "outputs": [],
   "source": [
    "def initial_w(dimension):\n",
    "    w = np.zeros((dimension, 1))\n",
    "    # w = np.random.random((dimension, 1))\n",
    "    # w = np.random.normal(size=(dimension, 1))\n",
    "    return w"
   ]
  },
  {
   "cell_type": "code",
   "execution_count": 5,
   "metadata": {
    "collapsed": true
   },
   "outputs": [],
   "source": [
    "def plot_loss(training_loss, testing_loss):\n",
    "    x = np.array(range(1, len(training_loss)+1))\n",
    "    plt.figure()\n",
    "    plt.plot(x, np.array(training_loss), label=\"train\")\n",
    "    plt.plot(x, np.array(testing_loss), label=\"test\")\n",
    "    plt.xlabel(\"Epoch\")\n",
    "    plt.ylabel(\"loss of L2 norm\")\n",
    "    plt.title(\"Experiment\")\n",
    "    plt.legend()\n",
    "    plt.show()"
   ]
  },
  {
   "cell_type": "code",
   "execution_count": 6,
   "metadata": {
    "collapsed": true
   },
   "outputs": [],
   "source": [
    "def main(dataset, lr, nEpochs):\n",
    "    # get dataset\n",
    "    input_data, label = get_data(dataset)\n",
    "    x_train, x_test, y_train, y_test = get_dataset(input_data, label)\n",
    "\n",
    "    # initialize the w\n",
    "    w = initial_w(dimension=(13+1))\n",
    "\n",
    "    # handle b\n",
    "    train_column = np.ones((len(x_train), 1))\n",
    "    x_train = np.column_stack((x_train, train_column))\n",
    "    test_column = np.ones((len(x_test), 1))\n",
    "    x_test = np.column_stack((x_test, test_column))\n",
    "\n",
    "    # plot\n",
    "    training_loss_list = []\n",
    "    testing_loss_list = []\n",
    "\n",
    "    for i in range(nEpochs):\n",
    "        # calculate the gradient\n",
    "        grad = (np.dot(np.transpose(x_train), (np.dot(x_train, w) - y_train.reshape(-1, 1))))/len(x_train)\n",
    "        # update\n",
    "        w = w - lr * grad\n",
    "        # training error and testing error\n",
    "        training_loss = (1.0/2)*(np.mean((np.square(np.dot(x_train, w) - y_train.reshape(-1, 1)))))\n",
    "        testing_loss = (1.0/2)*(np.mean((np.square(np.dot(x_test, w) - y_test.reshape(-1, 1)))))\n",
    "        training_loss_list.append(training_loss)\n",
    "        testing_loss_list.append(testing_loss)\n",
    "        print(\"training error:[{}] testing error:[{}]\".format(training_loss, testing_loss))\n",
    "\n",
    "    # plot\n",
    "    plot_loss(training_loss_list, testing_loss_list)"
   ]
  },
  {
   "cell_type": "code",
   "execution_count": 7,
   "metadata": {},
   "outputs": [
    {
     "name": "stdout",
     "output_type": "stream",
     "text": [
      "training error:[111.4480795538343] testing error:[86.52188972500352]\n",
      "training error:[57.850373174119014] testing error:[41.80954672375072]\n",
      "training error:[42.368664542680236] testing error:[30.971269433224176]\n",
      "training error:[37.23553930969113] testing error:[28.367417448136376]\n",
      "training error:[34.98437336015206] testing error:[27.57869438343125]\n",
      "training error:[33.59172921765532] testing error:[27.102400554015443]\n",
      "training error:[32.49795124896612] testing error:[26.639609831403206]\n",
      "training error:[31.54009240640099] testing error:[26.158723293258806]\n",
      "training error:[30.66489701815801] testing error:[25.67313976713437]\n",
      "training error:[29.85097459744696] testing error:[25.195663687206608]\n",
      "training error:[29.08725494619343] testing error:[24.733082348790482]\n",
      "training error:[28.366713933159666] testing error:[24.287973964918642]\n",
      "training error:[27.684333406061693] testing error:[23.860725814936448]\n",
      "training error:[27.036298650856093] testing error:[23.45077232981669]\n",
      "training error:[26.41960108557653] testing error:[23.05722582987161]\n",
      "training error:[25.831801938186874] testing error:[22.679159818770643]\n",
      "training error:[25.27087629406845] testing error:[22.315717297253734]\n",
      "training error:[24.735105124181857] testing error:[21.966138764763286]\n",
      "training error:[24.22299895392005] testing error:[21.629757335269034]\n",
      "training error:[23.73324335667983] testing error:[21.305983129789723]\n",
      "training error:[23.264659783190485] testing error:[20.994286477752674]\n",
      "training error:[22.816177249551853] testing error:[20.69418346927927]\n",
      "training error:[22.38681174096508] testing error:[20.405224728640622]\n",
      "training error:[21.975651109556768] testing error:[20.126987199841718]\n",
      "training error:[21.58184389168849] testing error:[19.85906838596608]\n",
      "training error:[21.20459092735712] testing error:[19.601082446569468]\n",
      "training error:[20.84313898819098] testing error:[19.35265763648564]\n",
      "training error:[20.49677585022716] testing error:[19.113434677931046]\n",
      "training error:[20.164826410593506] testing error:[18.883065760422326]\n",
      "training error:[19.846649562834518] testing error:[18.66121394802527]\n",
      "training error:[19.541635627674026] testing error:[18.44755283926874]\n",
      "training error:[19.249204194252037] testing error:[18.241766373969295]\n",
      "training error:[18.968802268228284] testing error:[18.043548716552806]\n",
      "training error:[18.699902652517128] testing error:[17.852604170443957]\n",
      "training error:[18.442002507289175] testing error:[17.668647095424692]\n",
      "training error:[18.19462205071301] testing error:[17.491401811660715]\n",
      "training error:[17.957303372468044] testing error:[17.320602481960776]\n",
      "training error:[17.72960933957898] testing error:[17.15599296894516]\n",
      "training error:[17.511122579485253] testing error:[16.997326667007222]\n",
      "training error:[17.301444529090606] testing error:[16.84436631086283]\n",
      "training error:[17.100194541282608] testing error:[16.69688376352395]\n",
      "training error:[16.907009042383407] testing error:[16.554659787003462]\n",
      "training error:[16.72154073541568] testing error:[16.417483799164835]\n",
      "training error:[16.543457845099574] testing error:[16.285153620013084]\n",
      "training error:[16.372443401249736] testing error:[16.157475210478346]\n",
      "training error:[16.208194557796784] testing error:[16.03426240643249]\n",
      "training error:[16.050421945070667] testing error:[15.915336650344331]\n",
      "training error:[15.898849053295473] testing error:[15.80052672264513]\n",
      "training error:[15.753211645483967] testing error:[15.689668474559095]\n",
      "training error:[15.613257198106645] testing error:[15.582604563861828]\n",
      "training error:[15.478744368058535] testing error:[15.47918419476685]\n",
      "training error:[15.349442484567351] testing error:[15.379262862908275]\n",
      "training error:[15.225131064786831] testing error:[15.28270210618455]\n",
      "training error:[15.105599351904058] testing error:[15.189369262053102]\n",
      "training error:[14.990645874662933] testing error:[15.09913723171598]\n",
      "training error:[14.880078027270791] testing error:[15.011884251509414]\n",
      "training error:[14.77371166871305] testing error:[14.927493671703358]\n",
      "training error:[14.67137074055335] testing error:[14.845853742827913]\n",
      "training error:[14.572886902344736] testing error:[14.766857409569619]\n",
      "training error:[14.478099183822007] testing error:[14.690402112219962]\n",
      "training error:[14.386853653086845] testing error:[14.616389595609016]\n",
      "training error:[14.299003100036145] testing error:[14.54472572541781]\n",
      "training error:[14.214406734320395] testing error:[14.475320311731148]\n",
      "training error:[14.132929897153629] testing error:[14.408086939668275]\n",
      "training error:[14.054443786328635] testing error:[14.342942806910017]\n",
      "training error:[13.978825193822406] testing error:[14.279808567927123]\n",
      "training error:[13.905956255405666] testing error:[14.2186081847046]\n",
      "training error:[13.835724211698345] testing error:[14.159268783750484]\n",
      "training error:[13.768021180139135] testing error:[14.101720519173575]\n",
      "training error:[13.70274393736244] testing error:[14.04589644161347]\n",
      "training error:[13.639793711499888] testing error:[13.991732372806222]\n",
      "training error:[13.57907598394622] testing error:[13.939166785571151]\n",
      "training error:[13.520500300151213] testing error:[13.888140689007187]\n",
      "training error:[13.463980089019605] testing error:[13.838597518691081]\n",
      "training error:[13.409432490520839] testing error:[13.79048303167469]\n",
      "training error:[13.356778191129044] testing error:[13.743745206083586]\n",
      "training error:[13.305941266731338] testing error:[13.698334145125008]\n",
      "training error:[13.256849032659785] testing error:[13.654201985319123]\n",
      "training error:[13.209431900518075] testing error:[13.611302808773624]\n",
      "training error:[13.163623241489768] testing error:[13.569592559328004]\n",
      "training error:[13.119359255829286] testing error:[13.52902896240003]\n",
      "training error:[13.076578848251003] testing error:[13.489571448373297]\n",
      "training error:[13.035223508944952] testing error:[13.451181079370873]\n",
      "training error:[12.995237199960362] testing error:[13.413820479266157]\n",
      "training error:[12.956566246710425] testing error:[13.37745376678815]\n",
      "training error:[12.919159234362933] testing error:[13.342046491584098]\n",
      "training error:[12.882966908892733] testing error:[13.307565573108185]\n",
      "training error:[12.847942082582026] testing error:[13.273979242210508]\n",
      "training error:[12.81403954376484] testing error:[13.241256985306007]\n",
      "training error:[12.781215970621146] testing error:[13.209369491008006]\n",
      "training error:[12.749429848835398] testing error:[13.178288599116197]\n",
      "training error:[12.718641392942756] testing error:[13.14798725185366]\n",
      "training error:[12.688812471194472] testing error:[13.118439447252136]\n",
      "training error:[12.659906533781717] testing error:[13.089620194589237]\n",
      "training error:[12.631888544264681] testing error:[13.061505471785537]\n",
      "training error:[12.604724914060743] testing error:[13.03407218467359]\n",
      "training error:[12.578383439852386] testing error:[13.00729812805498]\n",
      "training error:[12.552833243781915] testing error:[12.98116194846495]\n",
      "training error:[12.528044716306235] testing error:[12.95564310856825]\n",
      "training error:[12.503989461590772] testing error:[12.930721853112765]\n"
     ]
    },
    {
     "data": {
      "image/png": "[encoded data removed]",
      "text/plain": [
       "<matplotlib.figure.Figure at 0x7fef78754208>"
      ]
     },
     "metadata": {},
     "output_type": "display_data"
    }
   ],
   "source": [
    "if __name__ == '__main__':\n",
    "    main(dataset= 'housing_scale', lr=0.1, nEpochs=100)"
   ]
  },
  {
   "cell_type": "code",
   "execution_count": null,
   "metadata": {
    "collapsed": true
   },
   "outputs": [],
   "source": []
  }
 ],
 "metadata": {
  "kernelspec": {
   "display_name": "Python 3",
   "language": "python",
   "name": "python3"
  },
  "language_info": {
   "codemirror_mode": {
    "name": "ipython",
    "version": 3
   },
   "file_extension": ".py",
   "mimetype": "text/x-python",
   "name": "python",
   "nbconvert_exporter": "python",
   "pygments_lexer": "ipython3",
   "version": "3.6.3"
  }
 },
 "nbformat": 4,
 "nbformat_minor": 2
}
